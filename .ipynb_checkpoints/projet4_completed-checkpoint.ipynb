{
 "cells": [
  {
   "cell_type": "markdown",
   "metadata": {},
   "source": [
    "# Projet maison n° 4"
   ]
  },
  {
   "cell_type": "code",
   "execution_count": 2,
   "metadata": {},
   "outputs": [],
   "source": [
    "# imports\n",
    "import requests\n",
    "from bs4 import BeautifulSoup"
   ]
  },
  {
   "cell_type": "markdown",
   "metadata": {},
   "source": [
    "**Partie A**\n",
    "\n",
    "Ecrire une fonction `get_prices_from_url()` qui extrait des informations à partir des 2 pages ci-dessous.\n",
    "\n",
    "```python\n",
    "URL_PAGE2 = \"https://kim.fspot.org/cours/page2.html\"\n",
    "URL_PAGE3 = \"https://kim.fspot.org/cours/page3.html\"\n",
    "```\n",
    "\n",
    "Avec `URL_PAGE2`, la fonction doit retourner :\n",
    "\n",
    "```json\n",
    "{'Personal': {'price': '$5', 'storage': '1GB', 'databases': 1},\n",
    " 'Small Business': {'price': '$25', 'storage': '10GB', 'databases': 5},\n",
    " 'Enterprise': {'price': '$45', 'storage': '100GB', 'databases': 25}}\n",
    "```"
   ]
  },
  {
   "cell_type": "code",
   "execution_count": 196,
   "metadata": {},
   "outputs": [],
   "source": [
    "URL_PAGE2 = \"https://kim.fspot.org/cours/page2.html\"\n",
    "URL_PAGE3 = \"https://kim.fspot.org/cours/page3.html\""
   ]
  },
  {
   "cell_type": "code",
   "execution_count": 3,
   "metadata": {},
   "outputs": [
    {
     "data": {
      "text/plain": [
       "{'Personal': {'price': '$5', 'storage': '1GB', 'databases': 1},\n",
       " 'Small Business': {'price': '$25', 'storage': '10GB', 'databases': 5},\n",
       " 'Enterprise': {'price': '$45', 'storage': '100GB', 'databases': 25}}"
      ]
     },
     "execution_count": 3,
     "metadata": {},
     "output_type": "execute_result"
    }
   ],
   "source": [
    "# partie A\n",
    "import re\n",
    "\n",
    "URL_PAGE2 = \"https://kim.fspot.org/cours/page2.html\"\n",
    "URL_PAGE3 = \"https://kim.fspot.org/cours/page3.html\"\n",
    "\n",
    "def get_prices_from_url(url):\n",
    "    \n",
    "    page = requests.get(url)\n",
    "    soup = BeautifulSoup(page.content)\n",
    "    \n",
    "    prices = {} \n",
    "    \n",
    "    tables = soup.find_all(\"div\",\"pricing-table\")\n",
    "    for i, table in enumerate(tables): \n",
    "        nom = table.find(\"h2\").text \n",
    "        price = table.find(\"span\",\"pricing-table-price\").contents[0].strip() \n",
    "        storage = table.find(\"ul\",\"pricing-table-list\").find(\"li\",string=re.compile(\"storage\")).text.strip() \n",
    "        storage = re.search(\"([0-9]+[A-Z]{2})\", storage).group() \n",
    "        databases = table.find(\"ul\",\"pricing-table-list\").find(\"li\",string=re.compile(\"database\")).text.strip()\n",
    "        databases = int(re.search(\"([0-9]+)\", databases).group())\n",
    "        prices[nom] = {\"price\":price, \"storage\" : storage, \"databases\": databases} \n",
    "    \n",
    "    return dict(prices)\n",
    "\n",
    "# appliquer la fction aux url des pages\n",
    "get_prices_from_url(URL_PAGE3)\n",
    "get_prices_from_url(URL_PAGE2)\n"
   ]
  },
  {
   "cell_type": "code",
   "execution_count": 4,
   "metadata": {},
   "outputs": [
    {
     "data": {
      "text/plain": [
       "dict"
      ]
     },
     "execution_count": 4,
     "metadata": {},
     "output_type": "execute_result"
    }
   ],
   "source": [
    "prices = get_prices_from_url(URL_PAGE3)\n",
    "type(prices)"
   ]
  },
  {
   "cell_type": "markdown",
   "metadata": {},
   "source": [
    "**Partie B**\n",
    "\n",
    "*L'abus d'alcool est dangereux pour la santé, à consommer avec modération.*\n",
    "\n",
    "1) Ecrire une fonction `extract_beer_infos()` qui extrait des informations sur une bière du site de bières *beowulf*.\n",
    "\n",
    "Exemple d'URL: https://www.beerwulf.com/fr-fr/p/bieres/cuvee-des-trolls.33 \n",
    "\n",
    "La fonction doit retourner :\n",
    "```json\n",
    "{'Nom': 'Cuvée des Trolls',\n",
    " 'Style': 'Bière Blonde',\n",
    " 'Contenu': 25,\n",
    " 'Degré d’alcool': 7.0,\n",
    " 'Origine': 'Belgique',\n",
    " 'Brasseur': 'Brasserie Dubuisson Freres'}\n",
    "```\n",
    "\n",
    "2) L'URL ci-après retourne un JSON avec une liste de bières :\n",
    "\n",
    "```python\n",
    "URL_BEERLIST_FRANCE = \"https://www.beerwulf.com/fr-FR/api/search/searchProducts?country=France&container=Bouteille\"\n",
    "```\n",
    "\n",
    "Ecrire une fonction `extract_beer_list_infos(url)` qui prend en argument cet URL et retourne les informations sur une liste de bières du site *beowulf*.\n",
    "\n",
    "Cette fonction doit retourner la liste des informations obtenues par la fonction précédemment définie `extract_beer_infos()`.\n",
    "\n",
    "Exemple de retour :\n",
    "\n",
    "```json\n",
    "[{'Nom':'Desperados','Style':'Lager','Contenu':33,'Degré d’alcool':5.9,'Origine':'France','Brasseur':'Desperados'},\n",
    "{'Nom':'La Lager Sans Gluten de Vézelay','Style':'Lager','Contenu':25,'Degré d’alcool':4.0,'Origine':'France','Brasseur':'Brasserie de Vézelay'},\n",
    "{'Nom':'Mélusine Bio','Style':'Pale Ale','Contenu': 33,'Degré d’alcool': 5.0,'Origine':'France','Brasseur':'Mélusine'},\n",
    "{'Nom':'La Parisienne Le Titi Parisien','Style':'IPA','Contenu':33,'Degré d’alcool':5.5,'Origine':'France','Brasseur': 'Brasserie la Parisienne'},\n",
    "{'Nom':'Brasserie De Sutter Brin de Folie','Style':'Bière Blonde','Contenu': 33,'Degré d’alcool':6.5,'Origine':'France','Brasseur':'Brasserie de Sutter'}]\n",
    "```\n",
    "\n",
    "**Facultatif**\n",
    "\n",
    "Chercher comment optimiser cette fonction en utilisant `multiprocessing.Pool()` pour paralléliser les accès web."
   ]
  },
  {
   "cell_type": "code",
   "execution_count": 199,
   "metadata": {},
   "outputs": [],
   "source": [
    "beer_url = requests.get(\"https://www.beerwulf.com/fr-fr/p/bieres/affligem-blonde-fut-5l\")\n",
    "soup = BeautifulSoup(beer_url.content)\n",
    "#soup"
   ]
  },
  {
   "cell_type": "code",
   "execution_count": 5,
   "metadata": {},
   "outputs": [],
   "source": [
    "# partie B-1\n",
    "def extract_beer_infos(url):\n",
    "    \n",
    "    beer_url = requests.get(url)\n",
    "    soup = BeautifulSoup(beer_url.content)\n",
    "    \n",
    "    beer_infos = {\n",
    "        'Nom': None,\n",
    "        'Style': None,\n",
    "        'Contenu': None,\n",
    "        'Degré d’alcool': None,\n",
    "        'Origine': None,\n",
    "        'Brasseur': None\n",
    "    }\n",
    "    \n",
    "    beer_infos[\"Nom\"] = soup.find(\"h1\").text\n",
    "\n",
    "    beer_infos[\"Contenu\"] = soup.find(\"dd\", \"js-beer-volume\").text\n",
    "    beer_infos[\"Contenu\"] = int(re.search(\"([0-9]+)\", Contenu).group())\n",
    "\n",
    "    beer_infos[\"Origine\"] = soup.find(\"dd\", \"js-beer-country\").text\n",
    "    beer_infos['Origine'] = re.search('[A-Za-z]+', Origine).group()\n",
    "\n",
    "    for item in soup.find_all('td', attrs={'class':\"header\"}):\n",
    "        \n",
    "        if item.text == 'Style':\n",
    "            beer_infos[\"Style\"] = item.find_next().text\n",
    "        \n",
    "        elif item.text == \"Degré d’alcool\":\n",
    "            beer_infos[\"Degré d’alcool\"] = float(re.search('[0-9]+(,[0-9]+)?', item.find_next().text).group(0).replace(',','.'))\n",
    "        \n",
    "        elif item.text == 'Brasseur':\n",
    "            beer_infos[\"Brasseur\"] = re.search('[A-Za-z]+', item.find_next().text).group(0)\n",
    "            \n",
    "    \n",
    "    return beer_infos"
   ]
  },
  {
   "cell_type": "code",
   "execution_count": 6,
   "metadata": {},
   "outputs": [
    {
     "ename": "NameError",
     "evalue": "name 'Contenu' is not defined",
     "output_type": "error",
     "traceback": [
      "\u001b[0;31m---------------------------------------------------------------------------\u001b[0m",
      "\u001b[0;31mNameError\u001b[0m                                 Traceback (most recent call last)",
      "\u001b[0;32m<ipython-input-6-6bc148bf84fc>\u001b[0m in \u001b[0;36m<module>\u001b[0;34m\u001b[0m\n\u001b[0;32m----> 1\u001b[0;31m \u001b[0mextract_beer_infos\u001b[0m\u001b[0;34m(\u001b[0m\u001b[0;34m\"https://www.beerwulf.com/fr-fr/p/bieres/affligem-blonde-fut-5l\"\u001b[0m\u001b[0;34m)\u001b[0m\u001b[0;34m\u001b[0m\u001b[0;34m\u001b[0m\u001b[0m\n\u001b[0m",
      "\u001b[0;32m<ipython-input-5-03eec65bc427>\u001b[0m in \u001b[0;36mextract_beer_infos\u001b[0;34m(url)\u001b[0m\n\u001b[1;32m     17\u001b[0m \u001b[0;34m\u001b[0m\u001b[0m\n\u001b[1;32m     18\u001b[0m     \u001b[0mbeer_infos\u001b[0m\u001b[0;34m[\u001b[0m\u001b[0;34m\"Contenu\"\u001b[0m\u001b[0;34m]\u001b[0m \u001b[0;34m=\u001b[0m \u001b[0msoup\u001b[0m\u001b[0;34m.\u001b[0m\u001b[0mfind\u001b[0m\u001b[0;34m(\u001b[0m\u001b[0;34m\"dd\"\u001b[0m\u001b[0;34m,\u001b[0m \u001b[0;34m\"js-beer-volume\"\u001b[0m\u001b[0;34m)\u001b[0m\u001b[0;34m.\u001b[0m\u001b[0mtext\u001b[0m\u001b[0;34m\u001b[0m\u001b[0;34m\u001b[0m\u001b[0m\n\u001b[0;32m---> 19\u001b[0;31m     \u001b[0mbeer_infos\u001b[0m\u001b[0;34m[\u001b[0m\u001b[0;34m\"Contenu\"\u001b[0m\u001b[0;34m]\u001b[0m \u001b[0;34m=\u001b[0m \u001b[0mint\u001b[0m\u001b[0;34m(\u001b[0m\u001b[0mre\u001b[0m\u001b[0;34m.\u001b[0m\u001b[0msearch\u001b[0m\u001b[0;34m(\u001b[0m\u001b[0;34m\"([0-9]+)\"\u001b[0m\u001b[0;34m,\u001b[0m \u001b[0mContenu\u001b[0m\u001b[0;34m)\u001b[0m\u001b[0;34m.\u001b[0m\u001b[0mgroup\u001b[0m\u001b[0;34m(\u001b[0m\u001b[0;34m)\u001b[0m\u001b[0;34m)\u001b[0m\u001b[0;34m\u001b[0m\u001b[0;34m\u001b[0m\u001b[0m\n\u001b[0m\u001b[1;32m     20\u001b[0m \u001b[0;34m\u001b[0m\u001b[0m\n\u001b[1;32m     21\u001b[0m     \u001b[0mbeer_infos\u001b[0m\u001b[0;34m[\u001b[0m\u001b[0;34m\"Origine\"\u001b[0m\u001b[0;34m]\u001b[0m \u001b[0;34m=\u001b[0m \u001b[0msoup\u001b[0m\u001b[0;34m.\u001b[0m\u001b[0mfind\u001b[0m\u001b[0;34m(\u001b[0m\u001b[0;34m\"dd\"\u001b[0m\u001b[0;34m,\u001b[0m \u001b[0;34m\"js-beer-country\"\u001b[0m\u001b[0;34m)\u001b[0m\u001b[0;34m.\u001b[0m\u001b[0mtext\u001b[0m\u001b[0;34m\u001b[0m\u001b[0;34m\u001b[0m\u001b[0m\n",
      "\u001b[0;31mNameError\u001b[0m: name 'Contenu' is not defined"
     ]
    }
   ],
   "source": [
    "extract_beer_infos(\"https://www.beerwulf.com/fr-fr/p/bieres/affligem-blonde-fut-5l\")"
   ]
  },
  {
   "cell_type": "code",
   "execution_count": null,
   "metadata": {},
   "outputs": [],
   "source": []
  },
  {
   "cell_type": "code",
   "execution_count": 202,
   "metadata": {},
   "outputs": [],
   "source": [
    "# partie B-2\n",
    "import json\n",
    "URL_BEERLIST_FRANCE = \"https://www.beerwulf.com/fr-FR/api/search/searchProducts?country=France&container=Bouteille\"\n",
    "\n",
    "def extract_beer_list_infos(url):\n",
    "    # Collecter les pages de bières à partir du JSON : copier les données au format json sur le site\n",
    "# et les mettre dans \"json-parser\" pour avoir une structure en arborescence (plus simple à lire)\n",
    "    beer_pages = [] #liste vide qui doit contenir les pages des bières\n",
    "    \n",
    "    bp = requests.get(URL_BEERLIST_FRANCE)\n",
    "    data = json.loads(bp.content)\n",
    "    for i in range(len(data[\"items\"])):\n",
    "        beer_pages.append(\"https://www.beerwulf.com\" + data[\"items\"][i]['contentReference'])\n",
    "    \n",
    "    # Sequential version (slow):\n",
    "    beers = []\n",
    "    for pages in beer_pages:\n",
    "        beers.append(extract_beer_infos(pages))\n",
    "\n",
    "    # Facultatif\n",
    "    # Parallel version (faster):\n",
    "    # beers = []\n",
    "    \n",
    "    return beers"
   ]
  },
  {
   "cell_type": "code",
   "execution_count": 203,
   "metadata": {},
   "outputs": [
    {
     "data": {
      "text/plain": [
       "[{'Nom': 'Desperados',\n",
       "  'Style': 'Lager',\n",
       "  'Contenu': 5,\n",
       "  'Degré d’alcool': 5.9,\n",
       "  'Origine': 'Belgique',\n",
       "  'Brasseur': 'Desperados'},\n",
       " {'Nom': 'La Cristal IPA du Mont Blanc',\n",
       "  'Style': 'IPA',\n",
       "  'Contenu': 5,\n",
       "  'Degré d’alcool': 4.7,\n",
       "  'Origine': 'Belgique',\n",
       "  'Brasseur': 'Mont'},\n",
       " {'Nom': 'Ninkasi Pale Ale',\n",
       "  'Style': 'Bière Ambrée',\n",
       "  'Contenu': 5,\n",
       "  'Degré d’alcool': 4.5,\n",
       "  'Origine': 'Belgique',\n",
       "  'Brasseur': 'Ninkasi'},\n",
       " {'Nom': 'Pietra',\n",
       "  'Style': 'Lager',\n",
       "  'Contenu': 5,\n",
       "  'Degré d’alcool': 6.0,\n",
       "  'Origine': 'Belgique',\n",
       "  'Brasseur': 'Brasserie'}]"
      ]
     },
     "execution_count": 203,
     "metadata": {},
     "output_type": "execute_result"
    }
   ],
   "source": [
    "extract_beer_list_infos(URL_BEERLIST_FRANCE)"
   ]
  },
  {
   "cell_type": "code",
   "execution_count": 204,
   "metadata": {},
   "outputs": [],
   "source": [
    "import unittest\n",
    "\n",
    "class Session4Tests(unittest.TestCase):\n",
    "    def test_01_get_prices_from_url_page2(self):\n",
    "        prices = get_prices_from_url(URL_PAGE2)\n",
    "        # We should have found 3 products:\n",
    "        #print(type(prices))\n",
    "        self.assertIsInstance(prices, dict)\n",
    "        self.assertEqual(len(prices), 3)\n",
    "        self.assertIn('Personal', prices)\n",
    "        self.assertIn('Small Business', prices)\n",
    "        self.assertIn('Enterprise', prices)\n",
    "        \n",
    "        personal = prices['Personal']\n",
    "        self.assertIn('price', personal)\n",
    "        self.assertIn('storage', personal)\n",
    "        self.assertIn('databases', personal)\n",
    "        self.assertEqual(personal['price'], '$5')\n",
    "        self.assertEqual(personal['storage'], '1GB')\n",
    "        self.assertEqual(personal['databases'], 1)\n",
    "        \n",
    "    def test_02_get_prices_from_url_page3(self):\n",
    "        prices = get_prices_from_url(URL_PAGE3)\n",
    "        self.assertIsInstance(prices, dict)\n",
    "        self.assertEqual(len(prices), 4)\n",
    "        self.assertEqual(\n",
    "            prices['Privilege'],\n",
    "            {'databases': 100, 'price': '$99', 'storage': '1TB'}\n",
    "        )\n",
    "    \n",
    "    def test_03_extract_beer_list_infos(self):\n",
    "        infos = extract_beer_list_infos(URL_BEERLIST_FRANCE)\n",
    "        self.assertIsInstance(infos, list)\n",
    "        self.assertGreater(len(infos), 1)\n",
    "        # Contenu = int\n",
    "        # Degré d’alcool = float\n",
    "        for beer in infos:\n",
    "            self.assertIsInstance(beer['Nom'], str)\n",
    "            self.assertIsInstance(beer['Style'], str)\n",
    "            self.assertIsInstance(beer['Contenu'], int)\n",
    "            self.assertIsInstance(beer['Degré d’alcool'], float)\n",
    "            self.assertEqual(beer['Origine'], \"Belgique\")\n",
    "            self.assertIsInstance(beer['Brasseur'], str)\n",
    "\n",
    "            \n",
    "def run_tests():\n",
    "    test_suite = unittest.makeSuite(Session4Tests)\n",
    "    runner = unittest.TextTestRunner(verbosity=2)\n",
    "    runner.run(test_suite)"
   ]
  },
  {
   "cell_type": "code",
   "execution_count": 205,
   "metadata": {},
   "outputs": [
    {
     "name": "stderr",
     "output_type": "stream",
     "text": [
      "test_01_get_prices_from_url_page2 (__main__.Session4Tests) ... ERROR\n",
      "test_02_get_prices_from_url_page3 (__main__.Session4Tests) ... ERROR\n",
      "test_03_extract_beer_list_infos (__main__.Session4Tests) ... ok\n",
      "\n",
      "======================================================================\n",
      "ERROR: test_01_get_prices_from_url_page2 (__main__.Session4Tests)\n",
      "----------------------------------------------------------------------\n",
      "Traceback (most recent call last):\n",
      "  File \"<ipython-input-204-f7aeaf279235>\", line 8, in test_01_get_prices_from_url_page2\n",
      "    self.assertIsInstance(prices, dict)\n",
      "  File \"/anaconda3/lib/python3.7/unittest/case.py\", line 1261, in assertIsInstance\n",
      "    if not isinstance(obj, cls):\n",
      "TypeError: isinstance() arg 2 must be a type or tuple of types\n",
      "\n",
      "======================================================================\n",
      "ERROR: test_02_get_prices_from_url_page3 (__main__.Session4Tests)\n",
      "----------------------------------------------------------------------\n",
      "Traceback (most recent call last):\n",
      "  File \"<ipython-input-204-f7aeaf279235>\", line 24, in test_02_get_prices_from_url_page3\n",
      "    self.assertIsInstance(prices, dict)\n",
      "  File \"/anaconda3/lib/python3.7/unittest/case.py\", line 1261, in assertIsInstance\n",
      "    if not isinstance(obj, cls):\n",
      "TypeError: isinstance() arg 2 must be a type or tuple of types\n",
      "\n",
      "----------------------------------------------------------------------\n",
      "Ran 3 tests in 3.358s\n",
      "\n",
      "FAILED (errors=2)\n"
     ]
    }
   ],
   "source": [
    "if __name__ == '__main__':\n",
    "    run_tests()"
   ]
  },
  {
   "cell_type": "code",
   "execution_count": null,
   "metadata": {},
   "outputs": [],
   "source": []
  }
 ],
 "metadata": {
  "kernelspec": {
   "display_name": "Python 3",
   "language": "python",
   "name": "python3"
  },
  "language_info": {
   "codemirror_mode": {
    "name": "ipython",
    "version": 3
   },
   "file_extension": ".py",
   "mimetype": "text/x-python",
   "name": "python",
   "nbconvert_exporter": "python",
   "pygments_lexer": "ipython3",
   "version": "3.7.3"
  }
 },
 "nbformat": 4,
 "nbformat_minor": 4
}
